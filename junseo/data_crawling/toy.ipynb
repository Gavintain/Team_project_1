{
 "cells": [
  {
   "cell_type": "code",
   "execution_count": 5,
   "metadata": {},
   "outputs": [
    {
     "name": "stdout",
     "output_type": "stream",
     "text": [
      "첫 번째 검색 결과:  Selenium\n"
     ]
    }
   ],
   "source": [
    "from selenium import webdriver\n",
    "from selenium.webdriver.common.keys import Keys\n",
    "from selenium.webdriver.common.by import By\n",
    "import time\n",
    "\n",
    "# Chrome 브라우저를 사용하여 웹 드라이버 시작\n",
    "driver = webdriver.Chrome()\n",
    "\n",
    "# Google 홈페이지로 이동\n",
    "driver.get(\"https://www.google.com/\")\n",
    "\n",
    "# 페이지가 로딩될 때까지 잠시 기다립니다.\n",
    "time.sleep(2)\n",
    "\n",
    "# Google 검색 입력란을 찾고 \"Selenium\"이라는 검색어를 입력합니다.\n",
    "search_box = driver.find_element(By.NAME, \"q\")\n",
    "search_box.send_keys(\"Selenium\")\n",
    "search_box.send_keys(Keys.RETURN)\n",
    "\n",
    "# 검색 결과가 로딩될 때까지 잠시 기다립니다.\n",
    "time.sleep(2)\n",
    "\n",
    "# 검색 결과에서 첫 번째 결과의 제목을 가져옵니다.\n",
    "first_result = driver.find_element(By.CSS_SELECTOR, \"div.g h3\")\n",
    "print(\"첫 번째 검색 결과: \", first_result.text)\n",
    "\n",
    "# 웹 브라우저를 닫습니다.\n",
    "driver.quit()"
   ]
  },
  {
   "cell_type": "code",
   "execution_count": null,
   "metadata": {},
   "outputs": [],
   "source": [
    "baseURL = 'https://www.agoda.com/?cid=1719676'"
   ]
  }
 ],
 "metadata": {
  "kernelspec": {
   "display_name": "tp1_env",
   "language": "python",
   "name": "python3"
  },
  "language_info": {
   "codemirror_mode": {
    "name": "ipython",
    "version": 3
   },
   "file_extension": ".py",
   "mimetype": "text/x-python",
   "name": "python",
   "nbconvert_exporter": "python",
   "pygments_lexer": "ipython3",
   "version": "3.10.12"
  },
  "orig_nbformat": 4
 },
 "nbformat": 4,
 "nbformat_minor": 2
}
